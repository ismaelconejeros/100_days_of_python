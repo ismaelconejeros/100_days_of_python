{
  "nbformat": 4,
  "nbformat_minor": 0,
  "metadata": {
    "colab": {
      "name": "Data Exploration Pandas College Major (complete).ipynb",
      "provenance": [],
      "toc_visible": true
    },
    "kernelspec": {
      "name": "python3",
      "display_name": "Python 3",
      "language": "python"
    }
  },
  "cells": [
    {
      "cell_type": "markdown",
      "metadata": {
        "id": "uJ5KYjiPV5Ul"
      },
      "source": [
        "## Upload the Data and Read the .csv File"
      ]
    },
    {
      "cell_type": "code",
      "metadata": {
        "id": "PNqLi9vgJh97"
      },
      "source": [
        "import pandas as pd"
      ],
      "execution_count": 88,
      "outputs": []
    },
    {
      "cell_type": "code",
      "metadata": {
        "id": "FLXFmF4tbobK"
      },
      "source": [
        "df = pd.read_csv('salaries_by_college_major.csv')"
      ],
      "execution_count": 89,
      "outputs": []
    },
    {
      "cell_type": "code",
      "metadata": {
        "id": "sHIcvGzlbuVR",
        "colab": {
          "base_uri": "https://localhost:8080/",
          "height": 237
        },
        "outputId": "14714f37-a000-4562-fb9a-8c96f9af3b20"
      },
      "source": [
        "df.head()"
      ],
      "execution_count": 90,
      "outputs": [
        {
          "output_type": "execute_result",
          "data": {
            "text/plain": [
              "     Undergraduate Major  Starting Median Salary  Mid-Career Median Salary  \\\n",
              "0             Accounting               46,000.00                 77,100.00   \n",
              "1  Aerospace Engineering               57,700.00                101,000.00   \n",
              "2            Agriculture               42,600.00                 71,900.00   \n",
              "3           Anthropology               36,800.00                 61,500.00   \n",
              "4           Architecture               41,600.00                 76,800.00   \n",
              "\n",
              "   Mid-Career 10th Percentile Salary  Mid-Career 90th Percentile Salary  \\\n",
              "0                          42,200.00                         152,000.00   \n",
              "1                          64,300.00                         161,000.00   \n",
              "2                          36,300.00                         150,000.00   \n",
              "3                          33,800.00                         138,000.00   \n",
              "4                          50,600.00                         136,000.00   \n",
              "\n",
              "      Group  \n",
              "0  Business  \n",
              "1      STEM  \n",
              "2  Business  \n",
              "3      HASS  \n",
              "4  Business  "
            ],
            "text/html": "<div>\n<style scoped>\n    .dataframe tbody tr th:only-of-type {\n        vertical-align: middle;\n    }\n\n    .dataframe tbody tr th {\n        vertical-align: top;\n    }\n\n    .dataframe thead th {\n        text-align: right;\n    }\n</style>\n<table border=\"1\" class=\"dataframe\">\n  <thead>\n    <tr style=\"text-align: right;\">\n      <th></th>\n      <th>Undergraduate Major</th>\n      <th>Starting Median Salary</th>\n      <th>Mid-Career Median Salary</th>\n      <th>Mid-Career 10th Percentile Salary</th>\n      <th>Mid-Career 90th Percentile Salary</th>\n      <th>Group</th>\n    </tr>\n  </thead>\n  <tbody>\n    <tr>\n      <th>0</th>\n      <td>Accounting</td>\n      <td>46,000.00</td>\n      <td>77,100.00</td>\n      <td>42,200.00</td>\n      <td>152,000.00</td>\n      <td>Business</td>\n    </tr>\n    <tr>\n      <th>1</th>\n      <td>Aerospace Engineering</td>\n      <td>57,700.00</td>\n      <td>101,000.00</td>\n      <td>64,300.00</td>\n      <td>161,000.00</td>\n      <td>STEM</td>\n    </tr>\n    <tr>\n      <th>2</th>\n      <td>Agriculture</td>\n      <td>42,600.00</td>\n      <td>71,900.00</td>\n      <td>36,300.00</td>\n      <td>150,000.00</td>\n      <td>Business</td>\n    </tr>\n    <tr>\n      <th>3</th>\n      <td>Anthropology</td>\n      <td>36,800.00</td>\n      <td>61,500.00</td>\n      <td>33,800.00</td>\n      <td>138,000.00</td>\n      <td>HASS</td>\n    </tr>\n    <tr>\n      <th>4</th>\n      <td>Architecture</td>\n      <td>41,600.00</td>\n      <td>76,800.00</td>\n      <td>50,600.00</td>\n      <td>136,000.00</td>\n      <td>Business</td>\n    </tr>\n  </tbody>\n</table>\n</div>"
          },
          "metadata": {},
          "execution_count": 90
        }
      ]
    },
    {
      "cell_type": "markdown",
      "metadata": {
        "id": "KH2jLKmvWB0r"
      },
      "source": [
        "# Data Exploration and Data Cleaning"
      ]
    },
    {
      "cell_type": "code",
      "metadata": {
        "id": "HngjSfIXfXZ-",
        "colab": {
          "base_uri": "https://localhost:8080/"
        },
        "outputId": "1a5c94fe-989b-444e-9a59-f793bed061e1"
      },
      "source": [
        "#How many rows does our dataframe have? \n",
        "#How many columns does it have?\n",
        "df.shape"
      ],
      "execution_count": 91,
      "outputs": [
        {
          "output_type": "execute_result",
          "data": {
            "text/plain": [
              "(51, 6)"
            ]
          },
          "metadata": {},
          "execution_count": 91
        }
      ]
    },
    {
      "cell_type": "code",
      "metadata": {
        "id": "nbHfTGssi5dr",
        "colab": {
          "base_uri": "https://localhost:8080/"
        },
        "outputId": "a969def2-27d9-4e01-e26b-ae6b5b4d810a"
      },
      "source": [
        "#What are the labels for the columns? Do the columns have names?\n",
        "df.columns"
      ],
      "execution_count": 92,
      "outputs": [
        {
          "output_type": "execute_result",
          "data": {
            "text/plain": [
              "Index(['Undergraduate Major', 'Starting Median Salary',\n",
              "       'Mid-Career Median Salary', 'Mid-Career 10th Percentile Salary',\n",
              "       'Mid-Career 90th Percentile Salary', 'Group'],\n",
              "      dtype='object')"
            ]
          },
          "metadata": {},
          "execution_count": 92
        }
      ]
    },
    {
      "source": [
        "Before we can proceed with our analysis we should try and figure out if there are any missing or junk data in our dataframe. That way we can avoid problems later on. In this case, we're going to look for NaN (Not A Number) values in our dataframe. NAN values are blank cells or cells that contain strings instead of numbers. Use the .isna() method and see if you can spot if there's a problem somewhere."
      ],
      "cell_type": "markdown",
      "metadata": {}
    },
    {
      "cell_type": "code",
      "metadata": {
        "id": "Lwc7l1ZsjXkt",
        "colab": {
          "base_uri": "https://localhost:8080/",
          "height": 1000
        },
        "outputId": "72facfe5-0297-48c5-f21e-35c45b179967"
      },
      "source": [
        "#Are there any missing values in our dataframe? Does our dataframe contain any bad data?\n",
        "df.isna()"
      ],
      "execution_count": 93,
      "outputs": [
        {
          "output_type": "execute_result",
          "data": {
            "text/plain": [
              "    Undergraduate Major  Starting Median Salary  Mid-Career Median Salary  \\\n",
              "0                 False                   False                     False   \n",
              "1                 False                   False                     False   \n",
              "2                 False                   False                     False   \n",
              "3                 False                   False                     False   \n",
              "4                 False                   False                     False   \n",
              "5                 False                   False                     False   \n",
              "6                 False                   False                     False   \n",
              "7                 False                   False                     False   \n",
              "8                 False                   False                     False   \n",
              "9                 False                   False                     False   \n",
              "10                False                   False                     False   \n",
              "11                False                   False                     False   \n",
              "12                False                   False                     False   \n",
              "13                False                   False                     False   \n",
              "14                False                   False                     False   \n",
              "15                False                   False                     False   \n",
              "16                False                   False                     False   \n",
              "17                False                   False                     False   \n",
              "18                False                   False                     False   \n",
              "19                False                   False                     False   \n",
              "20                False                   False                     False   \n",
              "21                False                   False                     False   \n",
              "22                False                   False                     False   \n",
              "23                False                   False                     False   \n",
              "24                False                   False                     False   \n",
              "25                False                   False                     False   \n",
              "26                False                   False                     False   \n",
              "27                False                   False                     False   \n",
              "28                False                   False                     False   \n",
              "29                False                   False                     False   \n",
              "30                False                   False                     False   \n",
              "31                False                   False                     False   \n",
              "32                False                   False                     False   \n",
              "33                False                   False                     False   \n",
              "34                False                   False                     False   \n",
              "35                False                   False                     False   \n",
              "36                False                   False                     False   \n",
              "37                False                   False                     False   \n",
              "38                False                   False                     False   \n",
              "39                False                   False                     False   \n",
              "40                False                   False                     False   \n",
              "41                False                   False                     False   \n",
              "42                False                   False                     False   \n",
              "43                False                   False                     False   \n",
              "44                False                   False                     False   \n",
              "45                False                   False                     False   \n",
              "46                False                   False                     False   \n",
              "47                False                   False                     False   \n",
              "48                False                   False                     False   \n",
              "49                False                   False                     False   \n",
              "50                False                    True                      True   \n",
              "\n",
              "    Mid-Career 10th Percentile Salary  Mid-Career 90th Percentile Salary  \\\n",
              "0                               False                              False   \n",
              "1                               False                              False   \n",
              "2                               False                              False   \n",
              "3                               False                              False   \n",
              "4                               False                              False   \n",
              "5                               False                              False   \n",
              "6                               False                              False   \n",
              "7                               False                              False   \n",
              "8                               False                              False   \n",
              "9                               False                              False   \n",
              "10                              False                              False   \n",
              "11                              False                              False   \n",
              "12                              False                              False   \n",
              "13                              False                              False   \n",
              "14                              False                              False   \n",
              "15                              False                              False   \n",
              "16                              False                              False   \n",
              "17                              False                              False   \n",
              "18                              False                              False   \n",
              "19                              False                              False   \n",
              "20                              False                              False   \n",
              "21                              False                              False   \n",
              "22                              False                              False   \n",
              "23                              False                              False   \n",
              "24                              False                              False   \n",
              "25                              False                              False   \n",
              "26                              False                              False   \n",
              "27                              False                              False   \n",
              "28                              False                              False   \n",
              "29                              False                              False   \n",
              "30                              False                              False   \n",
              "31                              False                              False   \n",
              "32                              False                              False   \n",
              "33                              False                              False   \n",
              "34                              False                              False   \n",
              "35                              False                              False   \n",
              "36                              False                              False   \n",
              "37                              False                              False   \n",
              "38                              False                              False   \n",
              "39                              False                              False   \n",
              "40                              False                              False   \n",
              "41                              False                              False   \n",
              "42                              False                              False   \n",
              "43                              False                              False   \n",
              "44                              False                              False   \n",
              "45                              False                              False   \n",
              "46                              False                              False   \n",
              "47                              False                              False   \n",
              "48                              False                              False   \n",
              "49                              False                              False   \n",
              "50                               True                               True   \n",
              "\n",
              "    Group  \n",
              "0   False  \n",
              "1   False  \n",
              "2   False  \n",
              "3   False  \n",
              "4   False  \n",
              "5   False  \n",
              "6   False  \n",
              "7   False  \n",
              "8   False  \n",
              "9   False  \n",
              "10  False  \n",
              "11  False  \n",
              "12  False  \n",
              "13  False  \n",
              "14  False  \n",
              "15  False  \n",
              "16  False  \n",
              "17  False  \n",
              "18  False  \n",
              "19  False  \n",
              "20  False  \n",
              "21  False  \n",
              "22  False  \n",
              "23  False  \n",
              "24  False  \n",
              "25  False  \n",
              "26  False  \n",
              "27  False  \n",
              "28  False  \n",
              "29  False  \n",
              "30  False  \n",
              "31  False  \n",
              "32  False  \n",
              "33  False  \n",
              "34  False  \n",
              "35  False  \n",
              "36  False  \n",
              "37  False  \n",
              "38  False  \n",
              "39  False  \n",
              "40  False  \n",
              "41  False  \n",
              "42  False  \n",
              "43  False  \n",
              "44  False  \n",
              "45  False  \n",
              "46  False  \n",
              "47  False  \n",
              "48  False  \n",
              "49  False  \n",
              "50   True  "
            ],
            "text/html": "<div>\n<style scoped>\n    .dataframe tbody tr th:only-of-type {\n        vertical-align: middle;\n    }\n\n    .dataframe tbody tr th {\n        vertical-align: top;\n    }\n\n    .dataframe thead th {\n        text-align: right;\n    }\n</style>\n<table border=\"1\" class=\"dataframe\">\n  <thead>\n    <tr style=\"text-align: right;\">\n      <th></th>\n      <th>Undergraduate Major</th>\n      <th>Starting Median Salary</th>\n      <th>Mid-Career Median Salary</th>\n      <th>Mid-Career 10th Percentile Salary</th>\n      <th>Mid-Career 90th Percentile Salary</th>\n      <th>Group</th>\n    </tr>\n  </thead>\n  <tbody>\n    <tr>\n      <th>0</th>\n      <td>False</td>\n      <td>False</td>\n      <td>False</td>\n      <td>False</td>\n      <td>False</td>\n      <td>False</td>\n    </tr>\n    <tr>\n      <th>1</th>\n      <td>False</td>\n      <td>False</td>\n      <td>False</td>\n      <td>False</td>\n      <td>False</td>\n      <td>False</td>\n    </tr>\n    <tr>\n      <th>2</th>\n      <td>False</td>\n      <td>False</td>\n      <td>False</td>\n      <td>False</td>\n      <td>False</td>\n      <td>False</td>\n    </tr>\n    <tr>\n      <th>3</th>\n      <td>False</td>\n      <td>False</td>\n      <td>False</td>\n      <td>False</td>\n      <td>False</td>\n      <td>False</td>\n    </tr>\n    <tr>\n      <th>4</th>\n      <td>False</td>\n      <td>False</td>\n      <td>False</td>\n      <td>False</td>\n      <td>False</td>\n      <td>False</td>\n    </tr>\n    <tr>\n      <th>5</th>\n      <td>False</td>\n      <td>False</td>\n      <td>False</td>\n      <td>False</td>\n      <td>False</td>\n      <td>False</td>\n    </tr>\n    <tr>\n      <th>6</th>\n      <td>False</td>\n      <td>False</td>\n      <td>False</td>\n      <td>False</td>\n      <td>False</td>\n      <td>False</td>\n    </tr>\n    <tr>\n      <th>7</th>\n      <td>False</td>\n      <td>False</td>\n      <td>False</td>\n      <td>False</td>\n      <td>False</td>\n      <td>False</td>\n    </tr>\n    <tr>\n      <th>8</th>\n      <td>False</td>\n      <td>False</td>\n      <td>False</td>\n      <td>False</td>\n      <td>False</td>\n      <td>False</td>\n    </tr>\n    <tr>\n      <th>9</th>\n      <td>False</td>\n      <td>False</td>\n      <td>False</td>\n      <td>False</td>\n      <td>False</td>\n      <td>False</td>\n    </tr>\n    <tr>\n      <th>10</th>\n      <td>False</td>\n      <td>False</td>\n      <td>False</td>\n      <td>False</td>\n      <td>False</td>\n      <td>False</td>\n    </tr>\n    <tr>\n      <th>11</th>\n      <td>False</td>\n      <td>False</td>\n      <td>False</td>\n      <td>False</td>\n      <td>False</td>\n      <td>False</td>\n    </tr>\n    <tr>\n      <th>12</th>\n      <td>False</td>\n      <td>False</td>\n      <td>False</td>\n      <td>False</td>\n      <td>False</td>\n      <td>False</td>\n    </tr>\n    <tr>\n      <th>13</th>\n      <td>False</td>\n      <td>False</td>\n      <td>False</td>\n      <td>False</td>\n      <td>False</td>\n      <td>False</td>\n    </tr>\n    <tr>\n      <th>14</th>\n      <td>False</td>\n      <td>False</td>\n      <td>False</td>\n      <td>False</td>\n      <td>False</td>\n      <td>False</td>\n    </tr>\n    <tr>\n      <th>15</th>\n      <td>False</td>\n      <td>False</td>\n      <td>False</td>\n      <td>False</td>\n      <td>False</td>\n      <td>False</td>\n    </tr>\n    <tr>\n      <th>16</th>\n      <td>False</td>\n      <td>False</td>\n      <td>False</td>\n      <td>False</td>\n      <td>False</td>\n      <td>False</td>\n    </tr>\n    <tr>\n      <th>17</th>\n      <td>False</td>\n      <td>False</td>\n      <td>False</td>\n      <td>False</td>\n      <td>False</td>\n      <td>False</td>\n    </tr>\n    <tr>\n      <th>18</th>\n      <td>False</td>\n      <td>False</td>\n      <td>False</td>\n      <td>False</td>\n      <td>False</td>\n      <td>False</td>\n    </tr>\n    <tr>\n      <th>19</th>\n      <td>False</td>\n      <td>False</td>\n      <td>False</td>\n      <td>False</td>\n      <td>False</td>\n      <td>False</td>\n    </tr>\n    <tr>\n      <th>20</th>\n      <td>False</td>\n      <td>False</td>\n      <td>False</td>\n      <td>False</td>\n      <td>False</td>\n      <td>False</td>\n    </tr>\n    <tr>\n      <th>21</th>\n      <td>False</td>\n      <td>False</td>\n      <td>False</td>\n      <td>False</td>\n      <td>False</td>\n      <td>False</td>\n    </tr>\n    <tr>\n      <th>22</th>\n      <td>False</td>\n      <td>False</td>\n      <td>False</td>\n      <td>False</td>\n      <td>False</td>\n      <td>False</td>\n    </tr>\n    <tr>\n      <th>23</th>\n      <td>False</td>\n      <td>False</td>\n      <td>False</td>\n      <td>False</td>\n      <td>False</td>\n      <td>False</td>\n    </tr>\n    <tr>\n      <th>24</th>\n      <td>False</td>\n      <td>False</td>\n      <td>False</td>\n      <td>False</td>\n      <td>False</td>\n      <td>False</td>\n    </tr>\n    <tr>\n      <th>25</th>\n      <td>False</td>\n      <td>False</td>\n      <td>False</td>\n      <td>False</td>\n      <td>False</td>\n      <td>False</td>\n    </tr>\n    <tr>\n      <th>26</th>\n      <td>False</td>\n      <td>False</td>\n      <td>False</td>\n      <td>False</td>\n      <td>False</td>\n      <td>False</td>\n    </tr>\n    <tr>\n      <th>27</th>\n      <td>False</td>\n      <td>False</td>\n      <td>False</td>\n      <td>False</td>\n      <td>False</td>\n      <td>False</td>\n    </tr>\n    <tr>\n      <th>28</th>\n      <td>False</td>\n      <td>False</td>\n      <td>False</td>\n      <td>False</td>\n      <td>False</td>\n      <td>False</td>\n    </tr>\n    <tr>\n      <th>29</th>\n      <td>False</td>\n      <td>False</td>\n      <td>False</td>\n      <td>False</td>\n      <td>False</td>\n      <td>False</td>\n    </tr>\n    <tr>\n      <th>30</th>\n      <td>False</td>\n      <td>False</td>\n      <td>False</td>\n      <td>False</td>\n      <td>False</td>\n      <td>False</td>\n    </tr>\n    <tr>\n      <th>31</th>\n      <td>False</td>\n      <td>False</td>\n      <td>False</td>\n      <td>False</td>\n      <td>False</td>\n      <td>False</td>\n    </tr>\n    <tr>\n      <th>32</th>\n      <td>False</td>\n      <td>False</td>\n      <td>False</td>\n      <td>False</td>\n      <td>False</td>\n      <td>False</td>\n    </tr>\n    <tr>\n      <th>33</th>\n      <td>False</td>\n      <td>False</td>\n      <td>False</td>\n      <td>False</td>\n      <td>False</td>\n      <td>False</td>\n    </tr>\n    <tr>\n      <th>34</th>\n      <td>False</td>\n      <td>False</td>\n      <td>False</td>\n      <td>False</td>\n      <td>False</td>\n      <td>False</td>\n    </tr>\n    <tr>\n      <th>35</th>\n      <td>False</td>\n      <td>False</td>\n      <td>False</td>\n      <td>False</td>\n      <td>False</td>\n      <td>False</td>\n    </tr>\n    <tr>\n      <th>36</th>\n      <td>False</td>\n      <td>False</td>\n      <td>False</td>\n      <td>False</td>\n      <td>False</td>\n      <td>False</td>\n    </tr>\n    <tr>\n      <th>37</th>\n      <td>False</td>\n      <td>False</td>\n      <td>False</td>\n      <td>False</td>\n      <td>False</td>\n      <td>False</td>\n    </tr>\n    <tr>\n      <th>38</th>\n      <td>False</td>\n      <td>False</td>\n      <td>False</td>\n      <td>False</td>\n      <td>False</td>\n      <td>False</td>\n    </tr>\n    <tr>\n      <th>39</th>\n      <td>False</td>\n      <td>False</td>\n      <td>False</td>\n      <td>False</td>\n      <td>False</td>\n      <td>False</td>\n    </tr>\n    <tr>\n      <th>40</th>\n      <td>False</td>\n      <td>False</td>\n      <td>False</td>\n      <td>False</td>\n      <td>False</td>\n      <td>False</td>\n    </tr>\n    <tr>\n      <th>41</th>\n      <td>False</td>\n      <td>False</td>\n      <td>False</td>\n      <td>False</td>\n      <td>False</td>\n      <td>False</td>\n    </tr>\n    <tr>\n      <th>42</th>\n      <td>False</td>\n      <td>False</td>\n      <td>False</td>\n      <td>False</td>\n      <td>False</td>\n      <td>False</td>\n    </tr>\n    <tr>\n      <th>43</th>\n      <td>False</td>\n      <td>False</td>\n      <td>False</td>\n      <td>False</td>\n      <td>False</td>\n      <td>False</td>\n    </tr>\n    <tr>\n      <th>44</th>\n      <td>False</td>\n      <td>False</td>\n      <td>False</td>\n      <td>False</td>\n      <td>False</td>\n      <td>False</td>\n    </tr>\n    <tr>\n      <th>45</th>\n      <td>False</td>\n      <td>False</td>\n      <td>False</td>\n      <td>False</td>\n      <td>False</td>\n      <td>False</td>\n    </tr>\n    <tr>\n      <th>46</th>\n      <td>False</td>\n      <td>False</td>\n      <td>False</td>\n      <td>False</td>\n      <td>False</td>\n      <td>False</td>\n    </tr>\n    <tr>\n      <th>47</th>\n      <td>False</td>\n      <td>False</td>\n      <td>False</td>\n      <td>False</td>\n      <td>False</td>\n      <td>False</td>\n    </tr>\n    <tr>\n      <th>48</th>\n      <td>False</td>\n      <td>False</td>\n      <td>False</td>\n      <td>False</td>\n      <td>False</td>\n      <td>False</td>\n    </tr>\n    <tr>\n      <th>49</th>\n      <td>False</td>\n      <td>False</td>\n      <td>False</td>\n      <td>False</td>\n      <td>False</td>\n      <td>False</td>\n    </tr>\n    <tr>\n      <th>50</th>\n      <td>False</td>\n      <td>True</td>\n      <td>True</td>\n      <td>True</td>\n      <td>True</td>\n      <td>True</td>\n    </tr>\n  </tbody>\n</table>\n</div>"
          },
          "metadata": {},
          "execution_count": 93
        }
      ]
    },
    {
      "source": [
        "Did you find anything? Check the last couple of rows in the dataframe:"
      ],
      "cell_type": "markdown",
      "metadata": {}
    },
    {
      "cell_type": "code",
      "metadata": {
        "id": "gOxwMshdk207",
        "colab": {
          "base_uri": "https://localhost:8080/",
          "height": 237
        },
        "outputId": "02de10d7-770a-4fd6-bab2-3ddd66a97862"
      },
      "source": [
        "df.tail()"
      ],
      "execution_count": 94,
      "outputs": [
        {
          "output_type": "execute_result",
          "data": {
            "text/plain": [
              "      Undergraduate Major  Starting Median Salary  Mid-Career Median Salary  \\\n",
              "46             Psychology               35,900.00                 60,400.00   \n",
              "47               Religion               34,100.00                 52,000.00   \n",
              "48              Sociology               36,500.00                 58,200.00   \n",
              "49                Spanish               34,000.00                 53,100.00   \n",
              "50  Source: PayScale Inc.                     nan                       nan   \n",
              "\n",
              "    Mid-Career 10th Percentile Salary  Mid-Career 90th Percentile Salary Group  \n",
              "46                          31,600.00                         127,000.00  HASS  \n",
              "47                          29,700.00                          96,400.00  HASS  \n",
              "48                          30,700.00                         118,000.00  HASS  \n",
              "49                          31,000.00                          96,400.00  HASS  \n",
              "50                                nan                                nan   NaN  "
            ],
            "text/html": "<div>\n<style scoped>\n    .dataframe tbody tr th:only-of-type {\n        vertical-align: middle;\n    }\n\n    .dataframe tbody tr th {\n        vertical-align: top;\n    }\n\n    .dataframe thead th {\n        text-align: right;\n    }\n</style>\n<table border=\"1\" class=\"dataframe\">\n  <thead>\n    <tr style=\"text-align: right;\">\n      <th></th>\n      <th>Undergraduate Major</th>\n      <th>Starting Median Salary</th>\n      <th>Mid-Career Median Salary</th>\n      <th>Mid-Career 10th Percentile Salary</th>\n      <th>Mid-Career 90th Percentile Salary</th>\n      <th>Group</th>\n    </tr>\n  </thead>\n  <tbody>\n    <tr>\n      <th>46</th>\n      <td>Psychology</td>\n      <td>35,900.00</td>\n      <td>60,400.00</td>\n      <td>31,600.00</td>\n      <td>127,000.00</td>\n      <td>HASS</td>\n    </tr>\n    <tr>\n      <th>47</th>\n      <td>Religion</td>\n      <td>34,100.00</td>\n      <td>52,000.00</td>\n      <td>29,700.00</td>\n      <td>96,400.00</td>\n      <td>HASS</td>\n    </tr>\n    <tr>\n      <th>48</th>\n      <td>Sociology</td>\n      <td>36,500.00</td>\n      <td>58,200.00</td>\n      <td>30,700.00</td>\n      <td>118,000.00</td>\n      <td>HASS</td>\n    </tr>\n    <tr>\n      <th>49</th>\n      <td>Spanish</td>\n      <td>34,000.00</td>\n      <td>53,100.00</td>\n      <td>31,000.00</td>\n      <td>96,400.00</td>\n      <td>HASS</td>\n    </tr>\n    <tr>\n      <th>50</th>\n      <td>Source: PayScale Inc.</td>\n      <td>nan</td>\n      <td>nan</td>\n      <td>nan</td>\n      <td>nan</td>\n      <td>NaN</td>\n    </tr>\n  </tbody>\n</table>\n</div>"
          },
          "metadata": {},
          "execution_count": 94
        }
      ]
    },
    {
      "source": [
        "Aha! We have a row that contains some information regarding the source of the data with blank values for all the other other columns."
      ],
      "cell_type": "markdown",
      "metadata": {}
    },
    {
      "source": [
        "We don't want this row in our dataframe. There's two ways you can go about removing this row. The first way is to manually remove the row at index 50. The second way is to simply use the .dropna() method from pandas. Let's create a new dataframe without the last row and examine the last 5 rows to make sure we removed the last row:"
      ],
      "cell_type": "markdown",
      "metadata": {}
    },
    {
      "cell_type": "code",
      "metadata": {
        "id": "ag1fbMC0ltur",
        "colab": {
          "base_uri": "https://localhost:8080/",
          "height": 219
        },
        "outputId": "ddf82680-ca3e-42a0-9fd1-36d49726789e"
      },
      "source": [
        "clean_df = df.dropna()\n",
        "clean_df.tail()"
      ],
      "execution_count": 95,
      "outputs": [
        {
          "output_type": "execute_result",
          "data": {
            "text/plain": [
              "   Undergraduate Major  Starting Median Salary  Mid-Career Median Salary  \\\n",
              "45   Political Science               40,800.00                 78,200.00   \n",
              "46          Psychology               35,900.00                 60,400.00   \n",
              "47            Religion               34,100.00                 52,000.00   \n",
              "48           Sociology               36,500.00                 58,200.00   \n",
              "49             Spanish               34,000.00                 53,100.00   \n",
              "\n",
              "    Mid-Career 10th Percentile Salary  Mid-Career 90th Percentile Salary Group  \n",
              "45                          41,200.00                         168,000.00  HASS  \n",
              "46                          31,600.00                         127,000.00  HASS  \n",
              "47                          29,700.00                          96,400.00  HASS  \n",
              "48                          30,700.00                         118,000.00  HASS  \n",
              "49                          31,000.00                          96,400.00  HASS  "
            ],
            "text/html": "<div>\n<style scoped>\n    .dataframe tbody tr th:only-of-type {\n        vertical-align: middle;\n    }\n\n    .dataframe tbody tr th {\n        vertical-align: top;\n    }\n\n    .dataframe thead th {\n        text-align: right;\n    }\n</style>\n<table border=\"1\" class=\"dataframe\">\n  <thead>\n    <tr style=\"text-align: right;\">\n      <th></th>\n      <th>Undergraduate Major</th>\n      <th>Starting Median Salary</th>\n      <th>Mid-Career Median Salary</th>\n      <th>Mid-Career 10th Percentile Salary</th>\n      <th>Mid-Career 90th Percentile Salary</th>\n      <th>Group</th>\n    </tr>\n  </thead>\n  <tbody>\n    <tr>\n      <th>45</th>\n      <td>Political Science</td>\n      <td>40,800.00</td>\n      <td>78,200.00</td>\n      <td>41,200.00</td>\n      <td>168,000.00</td>\n      <td>HASS</td>\n    </tr>\n    <tr>\n      <th>46</th>\n      <td>Psychology</td>\n      <td>35,900.00</td>\n      <td>60,400.00</td>\n      <td>31,600.00</td>\n      <td>127,000.00</td>\n      <td>HASS</td>\n    </tr>\n    <tr>\n      <th>47</th>\n      <td>Religion</td>\n      <td>34,100.00</td>\n      <td>52,000.00</td>\n      <td>29,700.00</td>\n      <td>96,400.00</td>\n      <td>HASS</td>\n    </tr>\n    <tr>\n      <th>48</th>\n      <td>Sociology</td>\n      <td>36,500.00</td>\n      <td>58,200.00</td>\n      <td>30,700.00</td>\n      <td>118,000.00</td>\n      <td>HASS</td>\n    </tr>\n    <tr>\n      <th>49</th>\n      <td>Spanish</td>\n      <td>34,000.00</td>\n      <td>53,100.00</td>\n      <td>31,000.00</td>\n      <td>96,400.00</td>\n      <td>HASS</td>\n    </tr>\n  </tbody>\n</table>\n</div>"
          },
          "metadata": {},
          "execution_count": 95
        }
      ]
    },
    {
      "cell_type": "markdown",
      "metadata": {
        "id": "oaKtSQloWVC2"
      },
      "source": [
        "# Accessing Columns and Individual Cells"
      ]
    },
    {
      "source": [
        "Find College Major with Highest Starting Salaries"
      ],
      "cell_type": "markdown",
      "metadata": {}
    },
    {
      "cell_type": "code",
      "metadata": {
        "id": "jmG-K0HPnrO3",
        "colab": {
          "base_uri": "https://localhost:8080/"
        },
        "outputId": "79a9500b-26a8-430f-dcd1-3ec77e6091c8"
      },
      "source": [
        "#To access a particular column from a data frame we can use the square bracket notation, like so:\n",
        "#To find the highest starting salary we can simply chain the .max() method.\n",
        "clean_df['Starting Median Salary'].max()"
      ],
      "execution_count": 96,
      "outputs": [
        {
          "output_type": "execute_result",
          "data": {
            "text/plain": [
              "74300.0"
            ]
          },
          "metadata": {},
          "execution_count": 96
        }
      ]
    },
    {
      "cell_type": "code",
      "metadata": {
        "id": "PAoOp9r8nsKo",
        "colab": {
          "base_uri": "https://localhost:8080/"
        },
        "outputId": "de404d22-62d1-43d8-a3d0-018ef81d2a22"
      },
      "source": [
        "#The highest starting salary is $74,300. But which college major earns this much on average? For this, we need to know the row number or index so that we can look up the name of the major. Lucky for us, the .idxmax() method will give us index for the row with the largest value.\n",
        "clean_df['Starting Median Salary'].idxmax()"
      ],
      "execution_count": 97,
      "outputs": [
        {
          "output_type": "execute_result",
          "data": {
            "text/plain": [
              "43"
            ]
          },
          "metadata": {},
          "execution_count": 97
        }
      ]
    },
    {
      "cell_type": "code",
      "metadata": {
        "id": "MzEgHdhZodAq",
        "colab": {
          "base_uri": "https://localhost:8080/"
        },
        "outputId": "57cee6bb-dff0-407f-87a7-a020e7736261"
      },
      "source": [
        "clean_df['Starting Median Salary'][43]"
      ],
      "execution_count": 98,
      "outputs": [
        {
          "output_type": "execute_result",
          "data": {
            "text/plain": [
              "74300.0"
            ]
          },
          "metadata": {},
          "execution_count": 98
        }
      ]
    },
    {
      "cell_type": "code",
      "metadata": {
        "id": "A8RqDxtto48F",
        "colab": {
          "base_uri": "https://localhost:8080/",
          "height": 35
        },
        "outputId": "b2bd670b-1cf5-4798-8af6-92b55c365c57"
      },
      "source": [
        "#which is 43. To see the name of the major that corresponds to that particular row, we can use the .loc (location) property.\n",
        "clean_df['Undergraduate Major'].loc[43]"
      ],
      "execution_count": 99,
      "outputs": [
        {
          "output_type": "execute_result",
          "data": {
            "text/plain": [
              "'Physician Assistant'"
            ]
          },
          "metadata": {},
          "execution_count": 99
        }
      ]
    },
    {
      "cell_type": "code",
      "metadata": {
        "id": "CPXcE9mRpFnL",
        "colab": {
          "base_uri": "https://localhost:8080/",
          "height": 35
        },
        "outputId": "e5d46bbf-5ca8-416a-a4c5-444d07b3dc1c"
      },
      "source": [
        "#Here we are selecting both a column ('Undergraduate Major') and a row at index 43, so we are retrieving the value of a particular cell. You might see people using the double square brackets notation to achieve exactly the same thing: \n",
        "clean_df['Undergraduate Major'][43]"
      ],
      "execution_count": 100,
      "outputs": [
        {
          "output_type": "execute_result",
          "data": {
            "text/plain": [
              "'Physician Assistant'"
            ]
          },
          "metadata": {},
          "execution_count": 100
        }
      ]
    },
    {
      "cell_type": "code",
      "metadata": {
        "id": "Se2YRmsypgqw",
        "colab": {
          "base_uri": "https://localhost:8080/"
        },
        "outputId": "3a9fdf24-40d8-4be2-e499-abfced6a8174"
      },
      "source": [
        "#If you don't specify a particular column you can use the .loc property to retrieve an entire row:\n",
        "clean_df.loc[43]"
      ],
      "execution_count": 101,
      "outputs": [
        {
          "output_type": "execute_result",
          "data": {
            "text/plain": [
              "Undergraduate Major                  Physician Assistant\n",
              "Starting Median Salary                         74,300.00\n",
              "Mid-Career Median Salary                       91,700.00\n",
              "Mid-Career 10th Percentile Salary              66,400.00\n",
              "Mid-Career 90th Percentile Salary             124,000.00\n",
              "Group                                               STEM\n",
              "Name: 43, dtype: object"
            ]
          },
          "metadata": {},
          "execution_count": 101
        }
      ]
    },
    {
      "cell_type": "markdown",
      "metadata": {
        "id": "18_KA7l7WfDh"
      },
      "source": [
        "# Solution: Highest and Lowest Earning Degrees"
      ]
    },
    {
      "source": [
        "Now that we've found the major with the highest starting salary, can you write the code to find the following:"
      ],
      "cell_type": "markdown",
      "metadata": {}
    },
    {
      "source": [
        "What college major has the highest mid-career salary? How much do graduates with this major earn? (Mid-career is defined as having 10+ years of experience)."
      ],
      "cell_type": "markdown",
      "metadata": {}
    },
    {
      "cell_type": "code",
      "metadata": {
        "id": "_EvDORASpjDu",
        "colab": {
          "base_uri": "https://localhost:8080/",
          "height": 70
        },
        "outputId": "28f4bb3b-bb6b-4181-c114-5d38584d4015"
      },
      "source": [
        "#If you have multiple lines in the same cell, only the last one will get printed as an output automatically. If you'd like to see more than one thing printed out, then you still have to use a print statement on the lines above.\n",
        "print(clean_df['Mid-Career Median Salary'].max())\n",
        "print(f\"Index for the max mid career salary: {clean_df['Mid-Career Median Salary'].idxmax()}\")\n",
        "clean_df['Undergraduate Major'][8]"
      ],
      "execution_count": 102,
      "outputs": [
        {
          "output_type": "stream",
          "name": "stdout",
          "text": [
            "107000.0\nIndex for the max mid career salary: 8\n"
          ]
        },
        {
          "output_type": "execute_result",
          "data": {
            "text/plain": [
              "'Chemical Engineering'"
            ]
          },
          "metadata": {},
          "execution_count": 102
        }
      ]
    },
    {
      "source": [
        "Which college major has the lowest starting salary and how much do graduates earn after university?"
      ],
      "cell_type": "markdown",
      "metadata": {}
    },
    {
      "cell_type": "code",
      "metadata": {
        "id": "dQGN8gZntL2V",
        "colab": {
          "base_uri": "https://localhost:8080/",
          "height": 53
        },
        "outputId": "de1d812a-129e-4ebd-9f27-a87ffc8b51b5"
      },
      "source": [
        "#Here I've nested the code that we've seen in the previous lesson in the same line. We can also use the .loc property to access an entire row. Below I've accessed the row at the index of the smallest mid-career salary:\n",
        "print(clean_df['Starting Median Salary'].min())\n",
        "clean_df['Undergraduate Major'].loc[clean_df['Starting Median Salary'].idxmin()]"
      ],
      "execution_count": 103,
      "outputs": [
        {
          "output_type": "stream",
          "name": "stdout",
          "text": [
            "34000.0\n"
          ]
        },
        {
          "output_type": "execute_result",
          "data": {
            "text/plain": [
              "'Spanish'"
            ]
          },
          "metadata": {},
          "execution_count": 103
        }
      ]
    },
    {
      "source": [
        "Which college major has the lowest mid-career salary and how much can people expect to earn with this degree? "
      ],
      "cell_type": "markdown",
      "metadata": {}
    },
    {
      "cell_type": "code",
      "metadata": {
        "id": "Z0rvJWSdtNN5",
        "colab": {
          "base_uri": "https://localhost:8080/"
        },
        "outputId": "8bac1794-a54a-40ff-992a-a3051cc5d60e"
      },
      "source": [
        "##Sadly, education is actually the degree with the lowest mid-career salary and Spanish is the major with the lowest starting salary.\n",
        "clean_df.loc[clean_df['Mid-Career Median Salary'].idxmin()]"
      ],
      "execution_count": 104,
      "outputs": [
        {
          "output_type": "execute_result",
          "data": {
            "text/plain": [
              "Undergraduate Major                  Education\n",
              "Starting Median Salary               34,900.00\n",
              "Mid-Career Median Salary             52,000.00\n",
              "Mid-Career 10th Percentile Salary    29,300.00\n",
              "Mid-Career 90th Percentile Salary   102,000.00\n",
              "Group                                     HASS\n",
              "Name: 18, dtype: object"
            ]
          },
          "metadata": {},
          "execution_count": 104
        }
      ]
    },
    {
      "cell_type": "markdown",
      "metadata": {
        "id": "cd_pPQo7Wkxi"
      },
      "source": [
        "# Sorting Values & Adding Columns: Majors with the Most Potential vs Lowest Risk"
      ]
    },
    {
      "source": [
        "Lowest Risk Majors\n",
        "\n",
        "A low-risk major is a degree where there is a small difference between the lowest and highest salaries. In other words, if the difference between the 10th percentile and the 90th percentile earnings of your major is small, then you can be more certain about your salary after you graduate.\n",
        "\n",
        "How would we calculate the difference between the earnings of the 10th and 90th percentile? Well, Pandas allows us to do simple arithmetic with entire columns, so all we need to do is take the difference between the two columns:"
      ],
      "cell_type": "markdown",
      "metadata": {}
    },
    {
      "cell_type": "code",
      "metadata": {
        "id": "Pqw8VPbEtpcR",
        "colab": {
          "base_uri": "https://localhost:8080/",
          "height": 254
        },
        "outputId": "a20724d5-4705-4925-b41d-fa778690b358"
      },
      "source": [
        "# Alternatively, you can also use the .subtract() method.\n",
        "# clean_df['Mid-Career 90th Percentile Salary'] - clean_df['Mid-Career 10th Percentile Salary']\n",
        "# clean_df['Mid-Career 90th Percentile Salary'].subtract(clean_df['Mid-Career 10th Percentile Salary'])\n",
        "\n",
        "#The output of this computation will be another Pandas dataframe column. We can add this to our existing dataframe with the .insert() method:\n",
        "spread_col = clean_df['Mid-Career 90th Percentile Salary'] - clean_df['Mid-Career 10th Percentile Salary']\n",
        "clean_df.insert(1, 'Spread', spread_col)\n",
        "clean_df.head()\n",
        "\n",
        "# The first argument is the position of where the column should be inserted. In our case, it's at position 1, so the second column."
      ],
      "execution_count": 105,
      "outputs": [
        {
          "output_type": "execute_result",
          "data": {
            "text/plain": [
              "     Undergraduate Major     Spread  Starting Median Salary  \\\n",
              "0             Accounting 109,800.00               46,000.00   \n",
              "1  Aerospace Engineering  96,700.00               57,700.00   \n",
              "2            Agriculture 113,700.00               42,600.00   \n",
              "3           Anthropology 104,200.00               36,800.00   \n",
              "4           Architecture  85,400.00               41,600.00   \n",
              "\n",
              "   Mid-Career Median Salary  Mid-Career 10th Percentile Salary  \\\n",
              "0                 77,100.00                          42,200.00   \n",
              "1                101,000.00                          64,300.00   \n",
              "2                 71,900.00                          36,300.00   \n",
              "3                 61,500.00                          33,800.00   \n",
              "4                 76,800.00                          50,600.00   \n",
              "\n",
              "   Mid-Career 90th Percentile Salary     Group  \n",
              "0                         152,000.00  Business  \n",
              "1                         161,000.00      STEM  \n",
              "2                         150,000.00  Business  \n",
              "3                         138,000.00      HASS  \n",
              "4                         136,000.00  Business  "
            ],
            "text/html": "<div>\n<style scoped>\n    .dataframe tbody tr th:only-of-type {\n        vertical-align: middle;\n    }\n\n    .dataframe tbody tr th {\n        vertical-align: top;\n    }\n\n    .dataframe thead th {\n        text-align: right;\n    }\n</style>\n<table border=\"1\" class=\"dataframe\">\n  <thead>\n    <tr style=\"text-align: right;\">\n      <th></th>\n      <th>Undergraduate Major</th>\n      <th>Spread</th>\n      <th>Starting Median Salary</th>\n      <th>Mid-Career Median Salary</th>\n      <th>Mid-Career 10th Percentile Salary</th>\n      <th>Mid-Career 90th Percentile Salary</th>\n      <th>Group</th>\n    </tr>\n  </thead>\n  <tbody>\n    <tr>\n      <th>0</th>\n      <td>Accounting</td>\n      <td>109,800.00</td>\n      <td>46,000.00</td>\n      <td>77,100.00</td>\n      <td>42,200.00</td>\n      <td>152,000.00</td>\n      <td>Business</td>\n    </tr>\n    <tr>\n      <th>1</th>\n      <td>Aerospace Engineering</td>\n      <td>96,700.00</td>\n      <td>57,700.00</td>\n      <td>101,000.00</td>\n      <td>64,300.00</td>\n      <td>161,000.00</td>\n      <td>STEM</td>\n    </tr>\n    <tr>\n      <th>2</th>\n      <td>Agriculture</td>\n      <td>113,700.00</td>\n      <td>42,600.00</td>\n      <td>71,900.00</td>\n      <td>36,300.00</td>\n      <td>150,000.00</td>\n      <td>Business</td>\n    </tr>\n    <tr>\n      <th>3</th>\n      <td>Anthropology</td>\n      <td>104,200.00</td>\n      <td>36,800.00</td>\n      <td>61,500.00</td>\n      <td>33,800.00</td>\n      <td>138,000.00</td>\n      <td>HASS</td>\n    </tr>\n    <tr>\n      <th>4</th>\n      <td>Architecture</td>\n      <td>85,400.00</td>\n      <td>41,600.00</td>\n      <td>76,800.00</td>\n      <td>50,600.00</td>\n      <td>136,000.00</td>\n      <td>Business</td>\n    </tr>\n  </tbody>\n</table>\n</div>"
          },
          "metadata": {},
          "execution_count": 105
        }
      ]
    },
    {
      "source": [
        "Sorting by the Lowest Spread\n",
        "\n",
        "To see which degrees have the smallest spread, we can use the .sort_values() method. And since we are interested in only seeing the name of the degree and the major, we can pass a list of these two column names to look at the .head() of these two columns exclusively."
      ],
      "cell_type": "markdown",
      "metadata": {}
    },
    {
      "cell_type": "code",
      "metadata": {
        "id": "uBokcGx_uj6R",
        "colab": {
          "base_uri": "https://localhost:8080/",
          "height": 202
        },
        "outputId": "8449be8f-8d34-49a1-add0-a55d2b0bb050"
      },
      "source": [
        "low_risk = clean_df.sort_values('Spread')\n",
        "low_risk[['Undergraduate Major', 'Spread']].head()"
      ],
      "execution_count": 106,
      "outputs": [
        {
          "output_type": "execute_result",
          "data": {
            "text/plain": [
              "           Undergraduate Major    Spread\n",
              "40                     Nursing 50,700.00\n",
              "43         Physician Assistant 57,600.00\n",
              "41                   Nutrition 65,300.00\n",
              "49                     Spanish 65,400.00\n",
              "27  Health Care Administration 66,400.00"
            ],
            "text/html": "<div>\n<style scoped>\n    .dataframe tbody tr th:only-of-type {\n        vertical-align: middle;\n    }\n\n    .dataframe tbody tr th {\n        vertical-align: top;\n    }\n\n    .dataframe thead th {\n        text-align: right;\n    }\n</style>\n<table border=\"1\" class=\"dataframe\">\n  <thead>\n    <tr style=\"text-align: right;\">\n      <th></th>\n      <th>Undergraduate Major</th>\n      <th>Spread</th>\n    </tr>\n  </thead>\n  <tbody>\n    <tr>\n      <th>40</th>\n      <td>Nursing</td>\n      <td>50,700.00</td>\n    </tr>\n    <tr>\n      <th>43</th>\n      <td>Physician Assistant</td>\n      <td>57,600.00</td>\n    </tr>\n    <tr>\n      <th>41</th>\n      <td>Nutrition</td>\n      <td>65,300.00</td>\n    </tr>\n    <tr>\n      <th>49</th>\n      <td>Spanish</td>\n      <td>65,400.00</td>\n    </tr>\n    <tr>\n      <th>27</th>\n      <td>Health Care Administration</td>\n      <td>66,400.00</td>\n    </tr>\n  </tbody>\n</table>\n</div>"
          },
          "metadata": {},
          "execution_count": 106
        }
      ]
    },
    {
      "cell_type": "markdown",
      "metadata": {
        "id": "hQBSdbJIWqJY"
      },
      "source": [
        "# Solution: Degrees with the Highest Potential"
      ]
    },
    {
      "source": [
        "Using the .sort_values() method, can you find the degrees with the highest potential? Find the top 5 degrees with the highest values in the 90th percentile. \n",
        "\n",
        "Also, find the degrees with the greatest spread in salaries. Which majors have the largest difference between high and low earners after graduation."
      ],
      "cell_type": "markdown",
      "metadata": {}
    },
    {
      "cell_type": "code",
      "metadata": {
        "id": "SShtBkCQKk3O",
        "colab": {
          "base_uri": "https://localhost:8080/",
          "height": 202
        },
        "outputId": "1c26b91b-f17f-41ca-f7d6-32f3fa6d138a"
      },
      "source": [
        "#Majors with the Highest Potential\n",
        "highest_potential = clean_df.sort_values('Mid-Career 90th Percentile Salary', ascending=False)\n",
        "highest_potential[['Undergraduate Major', 'Mid-Career 90th Percentile Salary']].head()"
      ],
      "execution_count": 107,
      "outputs": [
        {
          "output_type": "execute_result",
          "data": {
            "text/plain": [
              "     Undergraduate Major  Mid-Career 90th Percentile Salary\n",
              "17             Economics                         210,000.00\n",
              "22               Finance                         195,000.00\n",
              "8   Chemical Engineering                         194,000.00\n",
              "37                  Math                         183,000.00\n",
              "44               Physics                         178,000.00"
            ],
            "text/html": "<div>\n<style scoped>\n    .dataframe tbody tr th:only-of-type {\n        vertical-align: middle;\n    }\n\n    .dataframe tbody tr th {\n        vertical-align: top;\n    }\n\n    .dataframe thead th {\n        text-align: right;\n    }\n</style>\n<table border=\"1\" class=\"dataframe\">\n  <thead>\n    <tr style=\"text-align: right;\">\n      <th></th>\n      <th>Undergraduate Major</th>\n      <th>Mid-Career 90th Percentile Salary</th>\n    </tr>\n  </thead>\n  <tbody>\n    <tr>\n      <th>17</th>\n      <td>Economics</td>\n      <td>210,000.00</td>\n    </tr>\n    <tr>\n      <th>22</th>\n      <td>Finance</td>\n      <td>195,000.00</td>\n    </tr>\n    <tr>\n      <th>8</th>\n      <td>Chemical Engineering</td>\n      <td>194,000.00</td>\n    </tr>\n    <tr>\n      <th>37</th>\n      <td>Math</td>\n      <td>183,000.00</td>\n    </tr>\n    <tr>\n      <th>44</th>\n      <td>Physics</td>\n      <td>178,000.00</td>\n    </tr>\n  </tbody>\n</table>\n</div>"
          },
          "metadata": {},
          "execution_count": 107
        }
      ]
    },
    {
      "cell_type": "code",
      "metadata": {
        "id": "C1hg41AqOkk3",
        "colab": {
          "base_uri": "https://localhost:8080/",
          "height": 202
        },
        "outputId": "533f4ae0-ec05-4814-b9d6-ac94c870f9fa"
      },
      "source": [
        "#Majors with the Greatest Spread in Salaries\n",
        "highest_spread = clean_df.sort_values('Spread', ascending=False)\n",
        "highest_spread[['Undergraduate Major', 'Spread']].head()"
      ],
      "execution_count": 108,
      "outputs": [
        {
          "output_type": "execute_result",
          "data": {
            "text/plain": [
              "   Undergraduate Major     Spread\n",
              "17           Economics 159,400.00\n",
              "22             Finance 147,800.00\n",
              "37                Math 137,800.00\n",
              "36           Marketing 132,900.00\n",
              "42          Philosophy 132,500.00"
            ],
            "text/html": "<div>\n<style scoped>\n    .dataframe tbody tr th:only-of-type {\n        vertical-align: middle;\n    }\n\n    .dataframe tbody tr th {\n        vertical-align: top;\n    }\n\n    .dataframe thead th {\n        text-align: right;\n    }\n</style>\n<table border=\"1\" class=\"dataframe\">\n  <thead>\n    <tr style=\"text-align: right;\">\n      <th></th>\n      <th>Undergraduate Major</th>\n      <th>Spread</th>\n    </tr>\n  </thead>\n  <tbody>\n    <tr>\n      <th>17</th>\n      <td>Economics</td>\n      <td>159,400.00</td>\n    </tr>\n    <tr>\n      <th>22</th>\n      <td>Finance</td>\n      <td>147,800.00</td>\n    </tr>\n    <tr>\n      <th>37</th>\n      <td>Math</td>\n      <td>137,800.00</td>\n    </tr>\n    <tr>\n      <th>36</th>\n      <td>Marketing</td>\n      <td>132,900.00</td>\n    </tr>\n    <tr>\n      <th>42</th>\n      <td>Philosophy</td>\n      <td>132,500.00</td>\n    </tr>\n  </tbody>\n</table>\n</div>"
          },
          "metadata": {},
          "execution_count": 108
        }
      ]
    },
    {
      "cell_type": "code",
      "metadata": {
        "id": "kKeiNcrzO-K5",
        "colab": {
          "base_uri": "https://localhost:8080/",
          "height": 202
        },
        "outputId": "3aaf2680-7e13-4447-a23a-3743257e45a5"
      },
      "source": [
        "# Notice how 3 of the top 5 are present in both. This means that there are some very high earning Economics degree holders out there, but also some who are not earning as much. It's actually quite interesting to compare these two rankings versus the degrees where the median salary is very high.\n",
        "highest_spread = clean_df.sort_values('Mid-Career Median Salary', ascending=False)\n",
        "highest_spread[['Undergraduate Major', 'Mid-Career Median Salary']].head()"
      ],
      "execution_count": 109,
      "outputs": [
        {
          "output_type": "execute_result",
          "data": {
            "text/plain": [
              "       Undergraduate Major  Mid-Career Median Salary\n",
              "8     Chemical Engineering                107,000.00\n",
              "12    Computer Engineering                105,000.00\n",
              "19  Electrical Engineering                103,000.00\n",
              "1    Aerospace Engineering                101,000.00\n",
              "17               Economics                 98,600.00"
            ],
            "text/html": "<div>\n<style scoped>\n    .dataframe tbody tr th:only-of-type {\n        vertical-align: middle;\n    }\n\n    .dataframe tbody tr th {\n        vertical-align: top;\n    }\n\n    .dataframe thead th {\n        text-align: right;\n    }\n</style>\n<table border=\"1\" class=\"dataframe\">\n  <thead>\n    <tr style=\"text-align: right;\">\n      <th></th>\n      <th>Undergraduate Major</th>\n      <th>Mid-Career Median Salary</th>\n    </tr>\n  </thead>\n  <tbody>\n    <tr>\n      <th>8</th>\n      <td>Chemical Engineering</td>\n      <td>107,000.00</td>\n    </tr>\n    <tr>\n      <th>12</th>\n      <td>Computer Engineering</td>\n      <td>105,000.00</td>\n    </tr>\n    <tr>\n      <th>19</th>\n      <td>Electrical Engineering</td>\n      <td>103,000.00</td>\n    </tr>\n    <tr>\n      <th>1</th>\n      <td>Aerospace Engineering</td>\n      <td>101,000.00</td>\n    </tr>\n    <tr>\n      <th>17</th>\n      <td>Economics</td>\n      <td>98,600.00</td>\n    </tr>\n  </tbody>\n</table>\n</div>"
          },
          "metadata": {},
          "execution_count": 109
        }
      ]
    },
    {
      "source": [
        "# Grouping and Pivoting Data with Pandas"
      ],
      "cell_type": "markdown",
      "metadata": {
        "id": "xG7RuPajWwkN"
      }
    },
    {
      "source": [
        "Often times you will want to sum rows that below to a particular category. For example, which category of degrees has the highest average salary? Is it STEM, Business or HASS (Humanities, Arts, and Social Science)? \n",
        "\n",
        "To answer this question we need to learn to use the .groupby() method. This allows us to manipulate data similar to a Microsoft Excel Pivot Table."
      ],
      "cell_type": "markdown",
      "metadata": {}
    },
    {
      "cell_type": "code",
      "metadata": {
        "id": "LKAVOVJTP5iQ",
        "colab": {
          "base_uri": "https://localhost:8080/",
          "height": 206
        },
        "outputId": "b9eb6c5a-9f04-49e3-e99d-9c425a97f05f"
      },
      "source": [
        "# We have three categories in the 'Group' column: STEM, HASS and Business. Let's count how many majors we have in each category:\n",
        "clean_df.groupby('Group').count()"
      ],
      "execution_count": 110,
      "outputs": [
        {
          "output_type": "execute_result",
          "data": {
            "text/plain": [
              "          Undergraduate Major  Spread  Starting Median Salary  \\\n",
              "Group                                                           \n",
              "Business                   12      12                      12   \n",
              "HASS                       22      22                      22   \n",
              "STEM                       16      16                      16   \n",
              "\n",
              "          Mid-Career Median Salary  Mid-Career 10th Percentile Salary  \\\n",
              "Group                                                                   \n",
              "Business                        12                                 12   \n",
              "HASS                            22                                 22   \n",
              "STEM                            16                                 16   \n",
              "\n",
              "          Mid-Career 90th Percentile Salary  \n",
              "Group                                        \n",
              "Business                                 12  \n",
              "HASS                                     22  \n",
              "STEM                                     16  "
            ],
            "text/html": "<div>\n<style scoped>\n    .dataframe tbody tr th:only-of-type {\n        vertical-align: middle;\n    }\n\n    .dataframe tbody tr th {\n        vertical-align: top;\n    }\n\n    .dataframe thead th {\n        text-align: right;\n    }\n</style>\n<table border=\"1\" class=\"dataframe\">\n  <thead>\n    <tr style=\"text-align: right;\">\n      <th></th>\n      <th>Undergraduate Major</th>\n      <th>Spread</th>\n      <th>Starting Median Salary</th>\n      <th>Mid-Career Median Salary</th>\n      <th>Mid-Career 10th Percentile Salary</th>\n      <th>Mid-Career 90th Percentile Salary</th>\n    </tr>\n    <tr>\n      <th>Group</th>\n      <th></th>\n      <th></th>\n      <th></th>\n      <th></th>\n      <th></th>\n      <th></th>\n    </tr>\n  </thead>\n  <tbody>\n    <tr>\n      <th>Business</th>\n      <td>12</td>\n      <td>12</td>\n      <td>12</td>\n      <td>12</td>\n      <td>12</td>\n      <td>12</td>\n    </tr>\n    <tr>\n      <th>HASS</th>\n      <td>22</td>\n      <td>22</td>\n      <td>22</td>\n      <td>22</td>\n      <td>22</td>\n      <td>22</td>\n    </tr>\n    <tr>\n      <th>STEM</th>\n      <td>16</td>\n      <td>16</td>\n      <td>16</td>\n      <td>16</td>\n      <td>16</td>\n      <td>16</td>\n    </tr>\n  </tbody>\n</table>\n</div>"
          },
          "metadata": {},
          "execution_count": 110
        }
      ]
    },
    {
      "cell_type": "code",
      "metadata": {
        "id": "2PPBqgJbRR_a",
        "colab": {
          "base_uri": "https://localhost:8080/",
          "height": 189
        },
        "outputId": "567a3587-fc1e-4374-95c0-e45f1fe0dc1b"
      },
      "source": [
        "# Now can you use the .mean() method to find the average salary by group? \n",
        "# The above is a little hard to read, isn't it? We can tell Pandas to print the numbers in our notebook to look like 1,012.45 with the following line:\n",
        "pd.options.display.float_format = '{:,.2f}'.format\n",
        "clean_df.groupby('Group').mean()"
      ],
      "execution_count": 111,
      "outputs": [
        {
          "output_type": "execute_result",
          "data": {
            "text/plain": [
              "             Spread  Starting Median Salary  Mid-Career Median Salary  \\\n",
              "Group                                                                   \n",
              "Business 103,958.33               44,633.33                 75,083.33   \n",
              "HASS      95,218.18               37,186.36                 62,968.18   \n",
              "STEM     101,600.00               53,862.50                 90,812.50   \n",
              "\n",
              "          Mid-Career 10th Percentile Salary  Mid-Career 90th Percentile Salary  \n",
              "Group                                                                           \n",
              "Business                          43,566.67                         147,525.00  \n",
              "HASS                              34,145.45                         129,363.64  \n",
              "STEM                              56,025.00                         157,625.00  "
            ],
            "text/html": "<div>\n<style scoped>\n    .dataframe tbody tr th:only-of-type {\n        vertical-align: middle;\n    }\n\n    .dataframe tbody tr th {\n        vertical-align: top;\n    }\n\n    .dataframe thead th {\n        text-align: right;\n    }\n</style>\n<table border=\"1\" class=\"dataframe\">\n  <thead>\n    <tr style=\"text-align: right;\">\n      <th></th>\n      <th>Spread</th>\n      <th>Starting Median Salary</th>\n      <th>Mid-Career Median Salary</th>\n      <th>Mid-Career 10th Percentile Salary</th>\n      <th>Mid-Career 90th Percentile Salary</th>\n    </tr>\n    <tr>\n      <th>Group</th>\n      <th></th>\n      <th></th>\n      <th></th>\n      <th></th>\n      <th></th>\n    </tr>\n  </thead>\n  <tbody>\n    <tr>\n      <th>Business</th>\n      <td>103,958.33</td>\n      <td>44,633.33</td>\n      <td>75,083.33</td>\n      <td>43,566.67</td>\n      <td>147,525.00</td>\n    </tr>\n    <tr>\n      <th>HASS</th>\n      <td>95,218.18</td>\n      <td>37,186.36</td>\n      <td>62,968.18</td>\n      <td>34,145.45</td>\n      <td>129,363.64</td>\n    </tr>\n    <tr>\n      <th>STEM</th>\n      <td>101,600.00</td>\n      <td>53,862.50</td>\n      <td>90,812.50</td>\n      <td>56,025.00</td>\n      <td>157,625.00</td>\n    </tr>\n  </tbody>\n</table>\n</div>"
          },
          "metadata": {},
          "execution_count": 111
        }
      ]
    },
    {
      "source": [
        "Learning Points & Summary"
      ],
      "cell_type": "markdown",
      "metadata": {
        "id": "jMkNL2nGR6ia"
      }
    },
    {
      "source": [
        "#Use .head(), .tail(), .shape and .columns to explore your DataFrame and find out the number of rows and columns as well as the column names."
      ],
      "cell_type": "code",
      "metadata": {},
      "execution_count": 112,
      "outputs": []
    },
    {
      "source": [
        "#Look for NaN (not a number) values with .findna() and consider using .dropna() to clean up your DataFrame."
      ],
      "cell_type": "code",
      "metadata": {},
      "execution_count": 113,
      "outputs": []
    },
    {
      "source": [
        "#You can access entire columns of a DataFrame using the square bracket notation: df['column name'] or df[['column name 1', 'column name 2', 'column name 3']]"
      ],
      "cell_type": "code",
      "metadata": {},
      "execution_count": 114,
      "outputs": []
    },
    {
      "source": [
        "#You can access individual cells in a DataFrame by chaining square brackets df['column name'][index] or using df['column name'].loc[index]"
      ],
      "cell_type": "code",
      "metadata": {},
      "execution_count": 115,
      "outputs": []
    },
    {
      "source": [
        "#The largest and smallest values, as well as their positions, can be found with methods like .max(), .min(), .idxmax() and .idxmin()"
      ],
      "cell_type": "code",
      "metadata": {},
      "execution_count": 116,
      "outputs": []
    },
    {
      "source": [
        "#You can sort the DataFrame with .sort_values() and add new columns with .insert()"
      ],
      "cell_type": "code",
      "metadata": {},
      "execution_count": 117,
      "outputs": []
    },
    {
      "source": [
        "#To create an Excel Style Pivot Table by grouping entries that belong to a particular category use the .groupby() method"
      ],
      "cell_type": "code",
      "metadata": {},
      "execution_count": 118,
      "outputs": []
    }
  ]
}